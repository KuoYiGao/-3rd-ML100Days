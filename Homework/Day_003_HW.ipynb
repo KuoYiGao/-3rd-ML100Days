{
 "cells": [
  {
   "cell_type": "markdown",
   "metadata": {},
   "source": [
    "## [作業目標]\n",
    "持續接觸有關機器學習的相關專案與最新技術"
   ]
  },
  {
   "cell_type": "markdown",
   "metadata": {},
   "source": [
    "## [作業重點]\n",
    "透過觀察頂尖公司的機器學習文章，來了解各公司是怎麼應用機器學習在實際的專案上"
   ]
  },
  {
   "cell_type": "markdown",
   "metadata": {},
   "source": [
    "## [作業]\n",
    "今天的作業希望大家能夠看看全球機器學習巨頭們在做的機器學習專案。以 google 為例，下圖是 Google 內部專案使用機器學習的數量，隨著時間進展，現在早已超過 2000 個專案在使用機器學習。"
   ]
  },
  {
   "cell_type": "markdown",
   "metadata": {},
   "source": [
    "![image](https://cdn-images-1.medium.com/max/800/1*U_L8qI8RmYS-MOBrYvXhSA.png)"
   ]
  },
  {
   "cell_type": "markdown",
   "metadata": {},
   "source": [
    "底下幫同學整理幾間知名企業的 blog 或機器學習網站 (自行搜尋也可)，這些網站都會整理最新的機器學習專案或者是技術文章，請挑選一篇文章閱讀並試著回答\n",
    "1. 專案的目標？ (要解決什麼問題）\n",
    "2. 使用的技術是？ (只需知道名稱即可，例如：使用 CNN 卷積神經網路做影像分類)\n",
    "3. 資料來源？ "
   ]
  },
  {
   "cell_type": "markdown",
   "metadata": {},
   "source": [
    "- [Google AI blog](https://ai.googleblog.com/)\n",
    "- [Facebook Research blog](https://research.fb.com/blog/)\n",
    "- [Apple machine learning journal](https://machinelearning.apple.com/)\n",
    "- [機器之心](https://www.jiqizhixin.com/)\n",
    "- [雷鋒網](http://www.leiphone.com/category/ai)"
   ]
  },
  {
   "cell_type": "code",
   "execution_count": null,
   "metadata": {},
   "outputs": [],
   "source": [
    "Q1 專案的目標？ (要解決什麼問題）\n",
    "   ''''\n",
    "   全自動無人機工業化\n",
    "   消費型無人機不同於手機有強烈市場需求，需拓展其泛用性質\n",
    "   手動無人機需克服兩大問題\n",
    "   第一，無人機需要適應惡劣的工業環境。這方面需要研發團隊深入實際環境測試及方案驗證，需要長時間經驗驗證及技術累積。\n",
    "   第二，需要專業操作員需，而工業環境中人為的操作也增加事故發生率。\n",
    "   ''''\n",
    "Q2 使用的技術是？ (只需知道名稱即可，例如：使用 CNN 卷積神經網路做影像分類)\n",
    "   ''''\n",
    "   *三维实景地图 三維實景地圖\n",
    "   通過軟硬體多元傳感氣融合技術，實現三維立體高精度測繪，連結BIM、GIS等行業系統。\n",
    "   \n",
    "   *人工智能算法平台\n",
    "   多角度視頻結構化算法、多角度Re-ID深度學習法、目標追蹤算法、人流密度統計法。\n",
    "   多角度视频结构化算法、多角度 Re-ID(目标再识别技术)深度学习算法、目标追踪算法、人流密度统计算法。\n",
    "\n",
    "   *大數據分析平台\n",
    "   特殊車輛行人追蹤、人流密度分析...等等，該平台可與無人機、地面站進行實時交互，分析數據並實時形成分析報告。\n",
    "   ''''\n",
    "        \n",
    "Q3 資料來源？ \n",
    "   ''''\n",
    "   雷鋒網\n",
    "   自動駕駛激活工業無人機\n",
    "   本文作者：新智造 \n",
    "   2019-08-23 09:00 \n",
    "   https://www.leiphone.com/news/201907/riguYO31EDijCjjg.html\n",
    "   ''''"
   ]
  }
 ],
 "metadata": {
  "kernelspec": {
   "display_name": "Python 3",
   "language": "python",
   "name": "python3"
  },
  "language_info": {
   "codemirror_mode": {
    "name": "ipython",
    "version": 3
   },
   "file_extension": ".py",
   "mimetype": "text/x-python",
   "name": "python",
   "nbconvert_exporter": "python",
   "pygments_lexer": "ipython3",
   "version": "3.7.3"
  }
 },
 "nbformat": 4,
 "nbformat_minor": 2
}
