{
 "cells": [
  {
   "cell_type": "markdown",
   "metadata": {},
   "source": [
    "## [作業目標]\n",
    "了解機器學習適合應用的領域與範疇。"
   ]
  },
  {
   "cell_type": "markdown",
   "metadata": {},
   "source": [
    "## [作業重點]\n",
    "透過瞭解機器學習的運作方式，找出非常適用機器學習應用的領域及其原因"
   ]
  },
  {
   "cell_type": "markdown",
   "metadata": {},
   "source": [
    "## 作業\n",
    "請找出一個你認為機器學習可以發光發熱的領域並闡述原因? "
   ]
  },
  {
   "cell_type": "code",
   "execution_count": null,
   "metadata": {},
   "outputs": [],
   "source": [
    "   醫療方面\n",
    "   '''' \n",
    "   醫師是個需要大量知識及高度精神集中的職業   \n",
    "   機器人不會有\"忘記\"這件事，也不會因疲憊而造成疏失，可以即時判斷當下最佳處置，\n",
    "   假若機器人學習在醫護方面達到一定的成熟度，可以大幅緩解醫護人員的壓力\n",
    "   光就台灣而言，就可以讓血汗醫護有所改善\n",
    "   更別說整合世界知識進而學習後的機器人，在部分領域的醫療判斷我相信是可以遠勝人類單一個體的"
   ]
  }
 ],
 "metadata": {
  "kernelspec": {
   "display_name": "Python 3",
   "language": "python",
   "name": "python3"
  },
  "language_info": {
   "codemirror_mode": {
    "name": "ipython",
    "version": 3
   },
   "file_extension": ".py",
   "mimetype": "text/x-python",
   "name": "python",
   "nbconvert_exporter": "python",
   "pygments_lexer": "ipython3",
   "version": "3.7.3"
  }
 },
 "nbformat": 4,
 "nbformat_minor": 2
}
